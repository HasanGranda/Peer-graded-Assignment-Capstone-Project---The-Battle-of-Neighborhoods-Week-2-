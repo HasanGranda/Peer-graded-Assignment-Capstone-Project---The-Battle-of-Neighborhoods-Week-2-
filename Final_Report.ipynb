{
    "cells": [
        {
            "metadata": {
                "collapsed": true
            },
            "cell_type": "markdown",
            "source": "\n# Capstone: Find the best neighborhood in Toronto to open a Restaurant Supply Store\n\n## Introduction:\n\nA friend of mine who runs a leading Restaurant Supply Store has found out that I am studying data science and has asked for help in trying to determine which neighborhood in Toronto he should open his new store in.\n\nExample Company:\n\nhttp://www.bramainc.com/about-brama\n\nI begin with an interview with my friend to determine the requirements.\n\n## Problem Description:\n\nWhich neighborhood should my friend open his new Restaurant Supply store in Toronto?\nHe wants to ensure steady and sustainable business.\n\n## Requirements:\n\n1. Store needs to be strategically located inside the biggest concentration of restaurants in Toronto area.\n\n2. Confirm any assumption by means of modeling and testing the data. Specifically, visually cluster common restaurants in Toronto by neighborhood.\n\n3. Additionally determine that a good number people can frequent these restaurants with sustainable frequency inside these neighborhoods.\n\na.) Is the neighborhood populous?\n\nb.) Is the neighborhood average salary close to the Canadian National Average?\n\nMy friend wants to be able to judge which neighborhoods also may be poised to grow in restaurant numbers in coming years.\n\nLocating his new store according to these requirements will ensure the following:\n\nlowest cost for delivery\n\nshortest travel time to his store for his clients\n\noverall lower run costs\n\nincrease in overall business\n\noverall greater customer satisfaction\n\n## Data:\n\nYou can follow along in my Capstone Notebook located here:\n\nhttps://github.com/HasanGranda/Peer-graded-Assignment-Capstone-Project---The-Battle-of-Neighborhoods-Week-2-.git\n\n"
        },
        {
            "metadata": {},
            "cell_type": "markdown",
            "source": "### Data Wrangling\n\nA lot of hard work went into creating the working data set.\nI had to combine the following disparate data sources. The order of events went like this\n\n### 1. Load all the Data from all the various sources.\n\n1.1 Toronto neighborhoods broken down by postal code\n\nhttps://en.wikipedia.org/wiki/List_of_postal_codes_of_Canada:_M\n\nHere I used BeautifulSoup to scrape the wiki page to extract a working list of Toronto Neighborhoods sorted by postal code.\n\n1.1.1 Load Toronto geospatial coordinates and merge to Toronto Postal Code Data\n\nhttp://cocl.us/Geospatial_data\n\nNext, I joined geo spatial to the Toronto Data.\n\n1.2 Toronto neighborhoods populations broken down by postal code\n\nhttps://www12.statcan.gc.ca/census-recensement/2016/dp-pd/hlt-fst/pd-pl/Tables/File.cfm?T=1201&SR=1&RPP=9999&PR=0&CMA=0&CSD=0&S=22&O=A&Lang=Eng&OFT=CSV\nUse Pandas to grab the csv\n\n1.2.1 Merge Toronto Neighbourhood populations data with Toronto Postal Code data\n\nNext, I joined population data to the Toronto Data.\n\n1.3 Toronto neighborhoods average after tax income broken down by postal code\n\nHere we must manually download these from Stats Canada and load them.\n\nhttps://www12.statcan.gc.ca/census-recensement/2016/dp-pd/prof/search-recherche/change-geo.cfm?Lang=E&Geo1=FSA\n\nSee: to_geo_space.csv\n\n1.3.1 Merge Toronto Neighbourhood income data with Toronto Postal Code data\n\nNext, I joined income data to the Toronto Data.\n\nAt this time I also saved a copy of the data set as my friend had asked for it in his list of requirements.\n\nSee: TO_Affluence.csv\n\n1.4 What is the Canadian National Average After Tax Income\n\nHere I must also manually download this from Stats Canada and load them.\n\nhttps://www150.statcan.gc.ca/n1/daily-quotidien/180313/dq180313a-eng.htm\n\nCanadian families and unattached individuals had a median after-tax income of $57,000 in 2016.\n\nKey Observation: Of the 103 Toronto Neighborhoods gathered only 55.3% or 57 Neighborhoods are above the median after-tax income. 37.8% or 39 Neighborhoods are below he median after-tax income. 6.7% or 7 neighborhoods did \n\nnot register as it appears their populations are too low. It appears that the greatest concentration of affluence is near central Toronto. We decided to keep all neighborhoods in the dataset regardless of income of \n\npopulation as the majority were close enough.\n\n1.5 Toronto list of Restaurants or Venues that could potentially use Restaurant Equipment\n\n4SQUARE API\n\nhttps://api.foursquare.com\n\n1.5.1 Get all the Venues in Toronto.\n\n1.5.2 Only add Restaurants as Venue Categories\n\nUse this list to Extract Restaurants and only include Restaurants in our Data Set.\n\n1.5.3 OneHot encode and count restaurants\nPrepare the data for clustering\n\nCombine all of those into a working Data Set to cluster and geo spatial map of the results showing the best neighborhood to open a Restaurant Supply Store\n\nCombining all of these disparate data sets will clearly demonstrate the following:\n\nwhich neighborhoods in Toronto have clusters of like Restaurants\nhow populated each neighborhoods is\nthe average after tax income is all of these neighborhoods\nwhich neighborhood should he target to open his new store."
        },
        {
            "metadata": {},
            "cell_type": "markdown",
            "source": "# Methodology:\n\nChoice of Algorithms\n\nI chose K-Means Clustering.\n\nhttps://towardsdatascience.com/clustering-algorithms-for-customer-segmentation-af637c6830ac\n\nA backgrounder on K-Means clustering\n\n\u201cK-means clustering is an iterative clustering algorithm where the number of clusters K is predetermined and the algorithm iteratively assigns each data\n\npoint to one of the K clusters based on the feature similarity.\u201d\n\nKey Observation: And for my project feature similarity means restaurant similarity in Neighborhoods\n\nChoosing the correct number of clusters.\n\nhttps://www.jeremyjordan.me/grouping-data-points-with-k-means-clustering/\n\nHere I use Silhouette analysis to determine the optimum number of clusters to use.\n\nA backgrounder on Silhouette analysis.\n\n\u201cWe can use Silhouette analysis to evaluate each model. A Silhouette coefficient is calculated for observation, which is then averaged to determine the Silhouette score.\nThe coefficient combines the average within-cluster distance with average nearest-cluster distance to assign a value between -1 and 1. A value below zero\ndenotes that the observation is probably in the wrong cluster and a value closer to 1 denotes that the observation is a great fit for the cluster and\nclearly separated from other clusters. This coefficient essentially measures how close an observation is to neighboring clusters, where it is desirable\nto be the maximum distance possible from neighboring clusters.\nWe can automatically determine the best number of clusters, k, by selecting the model which yields the highest Silhouette score.\u201d\n\nKey Observation: My highest score was 2.\n\n2.1 Run K means and segment data into clusters and generate labels\n\n2.2 Merge the Toronto data with geo coordinates data and make sure it's the right shape\n\nHere I reshape the Toronto data so that it\u2019s shape matches the clustered data.\n\n2.3 Add the KMeans Labels\n\nDetermine the largest cluster in this case it was cluster number 2 with a shape of\n(76, 15)\n\n3. Cluster 2 Contains the highest cluster density. We need to find the geographic centroid for this cluster. This is the optimum location for a new Restaurant Supply Store.\n\nHere we take the average latitude and longitude to be the centroid.\n\n3.1 Install opencage to reverse lookup the coordinates\u00b6\n\nOpencage allows me to reverse lookup the geo coordinates.\n\nKey Observation: This is the optimum location for a new Restaurant Supply Store.\n"
        },
        {
            "metadata": {},
            "cell_type": "markdown",
            "source": "# Results"
        },
        {
            "metadata": {},
            "cell_type": "markdown",
            "source": "### 4.1 Plot the clusters on a Map of the Toronto and Super Impose the best location of a Store\n"
        },
        {
            "metadata": {},
            "cell_type": "code",
            "source": "\nimport types\nimport pandas as pd\nfrom botocore.client import Config\nimport ibm_boto3\n\ndef __iter__(self): return 0\n\n# @hidden_cell\n# The following code accesses a file in your IBM Cloud Object Storage. It includes your credentials.\n# You might want to remove those credentials before you share the notebook.\nclient_880c27fc588e446ebe6f23255ba3319c = ibm_boto3.client(service_name='s3',\n    ibm_api_key_id='5WJ_N4e0szxrtqczGDRvBSPWdRwcd2Es7yYN6WpwzSx3',\n    ibm_auth_endpoint=\"https://iam.cloud.ibm.com/oidc/token\",\n    config=Config(signature_version='oauth'),\n    endpoint_url='https://s3.eu-geo.objectstorage.service.networklayer.com')\n\n# Your data file was loaded into a botocore.response.StreamingBody object.\n# Please read the documentation of ibm_boto3 and pandas to learn more about the possibilities to load the data.\n# ibm_boto3 documentation: https://ibm.github.io/ibm-cos-sdk-python/\n# pandas documentation: http://pandas.pydata.org/\nstreaming_body_1 = client_880c27fc588e446ebe6f23255ba3319c.get_object(Bucket='finalreport-donotdelete-pr-okbq5gyv7nthri', Key='picture.PNG')['Body']\n# add missing __iter__ method, so pandas accepts body as file-like object\nif not hasattr(streaming_body_1, \"__iter__\"): streaming_body_1.__iter__ = types.MethodType( __iter__, streaming_body_1 ) \n",
            "execution_count": 3,
            "outputs": []
        },
        {
            "metadata": {},
            "cell_type": "markdown",
            "source": "### 4.2 Exact Address of desired Location"
        },
        {
            "metadata": {},
            "cell_type": "markdown",
            "source": "Based on a reverse Lookup\nThe exact Address to locate would be: 268 Balliol Street, ON M4S 1C2, Canada or lat: 43.6991598, lng: -79.3878871"
        },
        {
            "metadata": {},
            "cell_type": "markdown",
            "source": "# Discussion:\n\n5.1 Explaining the results\nAs we built our list of neighborhoods with Restaurant venues exclusively we discovered most neighborhoods were similar and the greatest concentration of restaurants was in Central Toronto and downtown Toronto. This might seem obvious but it would also appear that these are some of the most affluent neighborhoods in Toronto so there appears to be correlation. By Locating in the general vicinity of the Exact location my friend could be geographically centered in this cluster and poised to service his restaurant customer base with greatest efficiency.\n\nWhen we built our our K-Means dataset we used Silhouette analysis to tell us there was a lot of similarity between neighborhoods and the most common restaurants contained with in. Really there was only 2 types of cluster or neighborhoods in greater Toronto. The vast majority of those were in 1 cluster. So Toronto restaurants might be many but they are very homogeneously located near the center of Toronto.\n\nOf the 103 Toronto Neighborhoods gathered only 55.3% or 57 Neighborhoods are above the median after-tax income. 37.8% or 39 Neighborhoods are below he median after-tax income. 6.7% or 7 neighborhoods did not register as it appears their populations are too low. It appears that the greatest concentration of affluence is near central Toronto. We decided to keep all neighborhoods in the dataset regardless of income of population as the majority were close enough.\n\n# Conclusion:\n\nI feel confident with the recommendation I have given my friend as it is backed up with demonstrated data analysis. While nothing can ever be 100% certain he will certainly be better informed than he was prior to asking for my help.\n\nMuch more inference can be obtained with more work. A potential side business for my friend might be assisting new restaurant owners where they might locate a new restaurant, who their competition is and who their clientele might be."
        },
        {
            "metadata": {},
            "cell_type": "code",
            "source": "",
            "execution_count": null,
            "outputs": []
        }
    ],
    "metadata": {
        "kernelspec": {
            "name": "python3",
            "display_name": "Python 3.7",
            "language": "python"
        },
        "language_info": {
            "name": "python",
            "version": "3.7.9",
            "mimetype": "text/x-python",
            "codemirror_mode": {
                "name": "ipython",
                "version": 3
            },
            "pygments_lexer": "ipython3",
            "nbconvert_exporter": "python",
            "file_extension": ".py"
        }
    },
    "nbformat": 4,
    "nbformat_minor": 1
}